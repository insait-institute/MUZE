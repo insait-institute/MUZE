{
 "cells": [
  {
   "cell_type": "code",
   "execution_count": null,
   "metadata": {},
   "outputs": [],
   "source": [
    "import pandas as pd\n",
    "\n",
    "val = pd.read_csv('/home/username/open_clip/finetuning/val6.csv')\n",
    "print(val.head) "
   ]
  },
  {
   "cell_type": "code",
   "execution_count": 3,
   "metadata": {},
   "outputs": [],
   "source": [
    "cap_to_id={}\n",
    "distinct=[]\n",
    "val_captions_freq={}\n",
    "val.columns.to_list()\n",
    "for code,cap in zip(val[\"image_code\"],val[\"caption\"]):\n",
    "    if cap not in val_captions_freq:\n",
    "        val_captions_freq[cap]=1\n",
    "        cap_to_id[cap]=code\n",
    "        distinct.append(code)\n",
    "    else:\n",
    "        val_captions_freq[cap]+=1"
   ]
  },
  {
   "cell_type": "code",
   "execution_count": 61,
   "metadata": {},
   "outputs": [
    {
     "name": "stdout",
     "output_type": "stream",
     "text": [
      "6000\n",
      "5687\n",
      "171 484\n"
     ]
    }
   ],
   "source": [
    "\n",
    "# print(len(val[\"caption\"]))\n",
    "# print(len(list(val_captions_freq.keys())))\n",
    "# count=0\n",
    "# count2=0\n",
    "# for k,v in val_captions_freq.items():\n",
    "#     if v>1:\n",
    "#         count+=1\n",
    "#         count2+=v\n",
    "  \n",
    "\n",
    "# print(count,count2)"
   ]
  },
  {
   "cell_type": "code",
   "execution_count": null,
   "metadata": {},
   "outputs": [],
   "source": [
    "#val8 915/6001 sunt dublari -206 --->0.08% pierdere pe val\n",
    "#val6 484/6000 -171\n",
    "#train8 48748/175034 -dupa set raman 6740\n",
    "#train6 23724/100611 -6007\n",
    "#pierdem aproape 60k images/texts din 275k <22%"
   ]
  },
  {
   "cell_type": "markdown",
   "metadata": {},
   "source": [
    "## get rid of doubles"
   ]
  },
  {
   "cell_type": "code",
   "execution_count": null,
   "metadata": {},
   "outputs": [],
   "source": [
    "print(distinct[:10])\n",
    "# [\"024289_2007-6001-8039.jpg\",\"025126_S-735.jpg\"]\n",
    "# print(val[\"image_code\"].isin(distinct))\n",
    "val_distincts=val.loc[val[\"image_code\"].isin(distinct),[\"image_code\",\"image_path\",\"caption\"]]\n",
    "val_distincts.head()\n",
    "    "
   ]
  },
  {
   "cell_type": "code",
   "execution_count": 64,
   "metadata": {},
   "outputs": [
    {
     "name": "stdout",
     "output_type": "stream",
     "text": [
      "5687\n"
     ]
    }
   ],
   "source": [
    "print(len(val_distincts))"
   ]
  },
  {
   "cell_type": "code",
   "execution_count": 15,
   "metadata": {},
   "outputs": [],
   "source": [
    "import pandas as pd\n",
    "def get_dataset_distincts(path='/home/username/open_clip/finetuning/val10.csv'):\n",
    "    dtset = pd.read_csv(path)\n",
    "    print(\"original size:\",len(dtset))\n",
    "    distinct=[]\n",
    "    dtset_captions_freq={}\n",
    "    for code,cap in zip(dtset[\"key\"],dtset[\"caption\"]):\n",
    "        if cap not in dtset_captions_freq:\n",
    "            dtset_captions_freq[cap]=1\n",
    "            distinct.append(code)\n",
    "    dtset_distincts=dtset.loc[dtset[\"key\"].isin(distinct),[\"key\",\"image_path\",\"caption\"]]\n",
    "    # dtset_distincts.head()\n",
    "    return dtset_distincts\n",
    "\n"
   ]
  },
  {
   "cell_type": "code",
   "execution_count": 16,
   "metadata": {},
   "outputs": [
    {
     "name": "stdout",
     "output_type": "stream",
     "text": [
      "original size: 12000\n",
      "10987\n"
     ]
    },
    {
     "name": "stdout",
     "output_type": "stream",
     "text": [
      "original size: 275607\n",
      "215914\n"
     ]
    }
   ],
   "source": [
    "# val6_distincts=get_dataset_distincts('/home/username/open_clip/finetuning/val6.csv')\n",
    "# print(len(val6_distincts))\n",
    "# train6_distincts=get_dataset_distincts('/home/username/open_clip/finetuning/val6.csv')\n",
    "# print(len(val6_distincts))\n",
    "val10_distincts=get_dataset_distincts('/home/username/open_clip/finetuning/val10.csv')\n",
    "print(len(val10_distincts))\n",
    "train10_distincts=get_dataset_distincts('/home/username/open_clip/finetuning/train10.csv')\n",
    "print(len(train10_distincts))"
   ]
  },
  {
   "cell_type": "code",
   "execution_count": 74,
   "metadata": {},
   "outputs": [],
   "source": [
    "training_dataset=pd.DataFrame(train10_distincts)\n",
    "validation_dataset=pd.DataFrame(val10_distincts)"
   ]
  },
  {
   "cell_type": "code",
   "execution_count": 75,
   "metadata": {},
   "outputs": [],
   "source": [
    "nr=11\n",
    "training_dataset.to_csv('/home/username/open_clip/finetuning/train'+str(nr)+'.csv', header=True, index=False)\n",
    "validation_dataset.to_csv('/home/username/open_clip/finetuning/val'+str(nr)+'.csv', header=True, index=False)"
   ]
  }
 ],
 "metadata": {
  "kernelspec": {
   "display_name": "Python 3 (ipykernel)",
   "language": "python",
   "name": "python3"
  },
  "language_info": {
   "codemirror_mode": {
    "name": "ipython",
    "version": 3
   },
   "file_extension": ".py",
   "mimetype": "text/x-python",
   "name": "python",
   "nbconvert_exporter": "python",
   "pygments_lexer": "ipython3",
   "version": "3.9.17"
  }
 },
 "nbformat": 4,
 "nbformat_minor": 2
}
