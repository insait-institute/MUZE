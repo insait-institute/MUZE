{
 "cells": [
  {
   "cell_type": "code",
   "execution_count": null,
   "metadata": {},
   "outputs": [],
   "source": [
    "from glob import glob\n",
    "from PIL import Image\n",
    "\n",
    "for im_path in glob(\"/scratch/username/data/va_images/*\"):\n",
    "    print(im_path)\n",
    "    image=Image.open(im_path)\n",
    "    image.show()\n",
    "    break"
   ]
  },
  {
   "cell_type": "markdown",
   "metadata": {},
   "source": [
    "## Process texts"
   ]
  },
  {
   "cell_type": "code",
   "execution_count": 24,
   "metadata": {},
   "outputs": [],
   "source": [
    "import json\n",
    "all_id_fulltexts={}\n",
    "for nr in range(19):\n",
    "    f=open(\"/home/username/open_clip/get_data/text_data/va/va_texts/\"+str(nr)+\".json\")\n",
    "    texts=json.load(f)\n",
    "    for t in texts:\n",
    "        key=t[\"record\"]['systemNumber']\n",
    "        all_id_fulltexts[key]=t[\"record\"]\n",
    "\n",
    "    # break"
   ]
  },
  {
   "cell_type": "code",
   "execution_count": 37,
   "metadata": {},
   "outputs": [],
   "source": [
    "# import json\n",
    "\n",
    "\n",
    "# with open(\"/home/username/open_clip/get_data/text_data/va/va_id_to_fulltext.json\",\"w\") as f:\n",
    "#     json.dump(all_id_fulltexts,f)\n",
    "\n"
   ]
  },
  {
   "cell_type": "code",
   "execution_count": 26,
   "metadata": {},
   "outputs": [
    {
     "name": "stdout",
     "output_type": "stream",
     "text": [
      "{'systemNumber': 'O1175604', 'accessionNumber': 'S.3004-2010', 'objectType': 'Costume design', 'titles': [{'title': 'Emile Littler Archive', 'type': 'named collection'}], 'summaryDescription': \"Costume design by Reginald (Reggie) de Veulle for a Showgirl in Act II of <i>Yvonne</i> at Daly's Theatre, London, May 1926.\\n\\r\\n<i>Yvonne</i> was a three-act musical comedy, adapted by Percy Greenbank from an Austrian musical of the same name. Greenbank provided the book and lyrics, the music was by Jean Gilbert and Vernon Duke, with additional numbers by the show's conductor, Arthur Wood. Ivy Tresmand took the leading role of Yvonne, a professor's daughter who, for reasons of musical comedy logic, adopts the identity of a music hall star.  \\n\\nIn the programme for <i>Yvonne</i>, de Veulle's surname appears as de Veuille. \\r\\n\\r\\n\", 'physicalDescription': 'Costume design by Reginald de Veulle for a Showgirl in Act II of <i>Yvonne</i>. Full-length female figure in a calf-length sheath dress in purple with jewelled gold straps forming a v-shape at the waist and a similar belt. Worn with a gold headdress. She holds a feathered fan in two shades of purple. Signed by the artist. With swatches of purple and gold fabric pinned at the upper left hand corner.', 'artistMakerPerson': [{'name': {'text': 'Veulle, Reginald de', 'id': 'A36679'}, 'association': {'text': 'costume designers', 'id': 'AAT163428'}, 'note': ''}], 'artistMakerOrganisations': [], 'artistMakerPeople': [], 'materials': [{'text': 'watercolour', 'id': 'x33202'}, {'text': 'pencil', 'id': 'x30347'}, {'text': 'paper', 'id': 'x30308'}, {'text': 'cloth', 'id': 'AAT162391'}], 'techniques': [{'text': 'drawing (image-making)', 'id': 'AAT54196'}, {'text': 'painting (image-making)', 'id': 'AAT54216'}], 'materialsAndTechniques': 'Watercolour and pencil on paper with attached fabric swatches', 'categories': [{'text': 'Entertainment & Leisure', 'id': 'THES48959'}, {'text': 'Theatre', 'id': 'THES250537'}, {'text': 'Musical Theatre', 'id': 'THES278879'}, {'text': 'Designs', 'id': 'THES48968'}], 'styles': [], 'collectionCode': {'text': 'T&P', 'id': 'THES48602'}, 'images': ['2011FB5307'], 'imageResolution': 'high', 'galleryLocations': [{'current': {'text': 'F21A (BH)', 'id': 'THES49576'}, 'free': '', 'case': '4A', 'shelf': 'BAY1', 'box': 'ELC18'}], 'partTypes': [[{'text': 'costume design', 'id': 'AAT163423'}], [{'text': 'drawings', 'id': 'AAT33973'}], [{'text': 'paintings', 'id': 'AAT33618'}]], 'contentWarnings': [{'apprise': '', 'note': ''}], 'placesOfOrigin': [{'place': {'text': 'London', 'id': 'x28980'}, 'association': {'text': 'drawn', 'id': 'x30545'}, 'note': ''}], 'productionDates': [{'date': {'text': '1926', 'earliest': '1926-01-01', 'latest': '1926-12-31'}, 'association': {'text': 'drawn', 'id': 'x30545'}, 'note': ''}], 'associatedObjects': [{'object': {'text': 'THM/144', 'id': 'ARC68566'}, 'association': 'Series'}], 'creditLine': 'Given by the estate of Sir Emile Littler', 'dimensions': [{'dimension': 'Height', 'value': '28.3', 'unit': 'cm', 'qualifier': '', 'date': {'text': '', 'earliest': None, 'latest': None}, 'part': '', 'note': ''}, {'dimension': 'Width', 'value': '19.3', 'unit': 'cm', 'qualifier': '', 'date': {'text': '', 'earliest': None, 'latest': None}, 'part': '', 'note': ''}], 'dimensionsNote': '', 'marksAndInscriptions': [{'content': '\\'\"Yvonne\" / Act II\\'', 'inscriber': {'name': {'text': '', 'id': ''}, 'association': {'text': '', 'id': ''}}, 'date': {'text': '', 'earliest': None, 'latest': None}, 'description': '', 'interpretation': '', 'language': '', 'medium': '', 'method': '', 'position': '', 'script': '', 'translation': '', 'transliteration': '', 'type': '', 'note': 'Inscribed in watercolour, upper left hand corner'}, {'content': \"'Showgirl / 5'\", 'inscriber': {'name': {'text': '', 'id': ''}, 'association': {'text': '', 'id': ''}}, 'date': {'text': '', 'earliest': None, 'latest': None}, 'description': '', 'interpretation': '', 'language': '', 'medium': '', 'method': '', 'position': '', 'script': '', 'translation': '', 'transliteration': '', 'type': '', 'note': 'Inscribed in watercolour, upper right hand corner'}, {'content': \"'Reggie de Veulle'\", 'inscriber': {'name': {'text': '', 'id': ''}, 'association': {'text': '', 'id': ''}}, 'date': {'text': '', 'earliest': None, 'latest': None}, 'description': '', 'interpretation': '', 'language': '', 'medium': '', 'method': '', 'position': '', 'script': '', 'translation': '', 'transliteration': '', 'type': '', 'note': \"Artist's signature, watercolour, lower left\"}, {'content': \"'Miss Norman'\", 'inscriber': {'name': {'text': '', 'id': ''}, 'association': {'text': '', 'id': ''}}, 'date': {'text': '', 'earliest': None, 'latest': None}, 'description': '', 'interpretation': '', 'language': '', 'medium': '', 'method': '', 'position': '', 'script': '', 'translation': '', 'transliteration': '', 'type': '', 'note': 'Inscribed in pencil on the reverse'}], 'objectHistory': \"According to the programme, the costumes designed by de Veulle were made by a number of costumiers. Ivy Tresmand's dresses in Acts I & II was by Worth Ltd, and her Act III dress was by Elspeth Fox Pitt. All other dresses and costumes were by Elspeth Fox Pitt. 'Gentlemen's modern dresses' were by Burkinshaw & Knights and uniforms by Morris Angels & Sons, Ltd. Ladies' hats and headdresses were made by Rose Bertin, gentleman's hats by J. Woodrow & Sons Ltd, the hosiery was by Husband, the wigs by Clarkson and the shoes by Rayne and Gamba. \", 'historicalContext': '', 'briefDescription': \"Costume design by Reginald (Reggie) de Veulle for a Showgirl in Act II of the musical <i>Yvonne</i> at Daly's Theatre, London, 1926. Emile Littler Archive\", 'bibliographicReferences': [], 'production': '', 'productionType': {'text': '', 'id': ''}, 'contentDescription': '', 'contentPlaces': [], 'associatedPlaces': [], 'contentPerson': [], 'associatedPerson': [], 'contentOrganisations': [], 'associatedOrganisations': [], 'contentPeople': [], 'associatedPeople': [], 'contentEvents': [], 'associatedEvents': [], 'contentOthers': [], 'contentConcepts': [], 'contentLiteraryRefs': ['Yvonne'], 'galleryLabels': [], 'partNumbers': ['S.3004-2010'], 'accessionNumberNum': '3004', 'accessionNumberPrefix': 'S', 'accessionYear': 2010, 'otherNumbers': [{'type': {'text': 'Archive number', 'id': 'THES54576'}, 'number': 'THM/144'}], 'copyNumber': '', 'aspects': ['WHOLE'], 'assets': [], 'recordModificationDate': '2023-03-06', 'recordCreationDate': '2010-11-17'}\n",
      "{'systemNumber': 'O1136089', 'accessionNumber': 'S.4487-2009', 'objectType': 'Print', 'titles': [{'title': 'H Beard Print Collection', 'type': 'named collection'}], 'summaryDescription': 'Portrait of Miss Chester as Beatrice in <i>Much Ado About Nothing.</i> Published in London by William Sams.', 'physicalDescription': 'Stipple engraved portrait of Miss Chester as Beatrice in <i>Much Ado About Nothing.</i> Published in London by William Sams.', 'artistMakerPerson': [{'name': {'text': 'Chalon, Alfred Edward (RA)', 'id': 'A5002'}, 'association': {'text': 'artist', 'id': 'AAT25103'}, 'note': 'possibly'}, {'name': {'text': 'Chalon, Henry Barnard', 'id': 'A17694'}, 'association': {'text': 'artist', 'id': 'AAT25103'}, 'note': 'possibly'}, {'name': {'text': 'Chalon, John James (RA)', 'id': 'A2067'}, 'association': {'text': 'artist', 'id': 'AAT25103'}, 'note': 'possibly'}, {'name': {'text': 'Cochran, J.', 'id': 'A25337'}, 'association': {'text': 'engraver', 'id': 'x30813'}, 'note': ''}], 'artistMakerOrganisations': [{'name': {'text': 'William Sams', 'id': 'A12136'}, 'association': {'text': 'publisher', 'id': 'x32600'}, 'note': ''}], 'artistMakerPeople': [], 'materials': [{'text': 'printing ink', 'id': 'AAT187371'}, {'text': 'paper', 'id': 'x30308'}], 'techniques': [{'text': 'print-making', 'id': 'AAT131119'}, {'text': 'lithograph', 'id': 'x39981'}, {'text': 'painting', 'id': 'x30598'}, {'text': 'hand-colouring', 'id': 'AAT133555'}], 'materialsAndTechniques': 'stipple engraving, ink on paper', 'categories': [{'text': 'Entertainment & Leisure', 'id': 'THES48959'}, {'text': 'Prints', 'id': 'THES48903'}], 'styles': [], 'collectionCode': {'text': 'T&P', 'id': 'THES48602'}, 'images': ['2010EF8551'], 'imageResolution': 'high', 'galleryLocations': [{'current': {'text': 'F21A (BH)', 'id': 'THES49576'}, 'free': '', 'case': '4A', 'shelf': 'BAY4', 'box': 'HB55'}], 'partTypes': [[{'text': 'prints', 'id': 'AAT41273'}], [{'text': 'stipple engravings', 'id': 'AAT41364'}]], 'contentWarnings': [{'apprise': '', 'note': ''}], 'placesOfOrigin': [{'place': {'text': 'London', 'id': 'x28980'}, 'association': {'text': 'Published', 'id': 'x30682'}, 'note': ''}], 'productionDates': [{'date': {'text': '1st August 1825', 'earliest': '1825-08-01', 'latest': '1825-08-01'}, 'association': {'text': 'published', 'id': 'x30682'}, 'note': ''}], 'associatedObjects': [], 'creditLine': '', 'dimensions': [{'dimension': 'Height', 'value': '45.3', 'unit': 'cm', 'qualifier': '', 'date': {'text': '', 'earliest': None, 'latest': None}, 'part': 'Print size', 'note': ''}, {'dimension': 'Width', 'value': '31.8', 'unit': 'cm', 'qualifier': '', 'date': {'text': '', 'earliest': None, 'latest': None}, 'part': 'Print size', 'note': ''}], 'dimensionsNote': '', 'marksAndInscriptions': [], 'objectHistory': '', 'historicalContext': '', 'briefDescription': 'Portrait of Miss Chester as Beatrice in <i>Much Ado About Nothing.</i> Published in London by William Sams on 1st August 1825, Harry Beard Collection.', 'bibliographicReferences': [], 'production': '', 'productionType': {'text': '', 'id': ''}, 'contentDescription': '', 'contentPlaces': [], 'associatedPlaces': [], 'contentPerson': [{'text': 'Chester (Miss)', 'id': 'N10078'}], 'associatedPerson': [], 'contentOrganisations': [], 'associatedOrganisations': [], 'contentPeople': [], 'associatedPeople': [], 'contentEvents': [], 'associatedEvents': [], 'contentOthers': [], 'contentConcepts': [], 'contentLiteraryRefs': ['Much Ado About Nothing'], 'galleryLabels': [], 'partNumbers': ['S.4487-2009'], 'accessionNumberNum': '4487', 'accessionNumberPrefix': 'S', 'accessionYear': 2009, 'otherNumbers': [{'type': {'text': 'H Beard collection numbering', 'id': 'THES50444'}, 'number': 'F.107-54'}], 'copyNumber': '', 'aspects': ['WHOLE'], 'assets': [], 'recordModificationDate': '2022-02-21', 'recordCreationDate': '2009-08-07'}\n",
      "{'systemNumber': 'O1136092', 'accessionNumber': 'S.4489-2009', 'objectType': 'Print', 'titles': [{'title': 'H Beard Print Collection', 'type': 'named collection'}], 'summaryDescription': 'Portrait of Mr E. L. Davenport as Benedict in Act II, Scene 3 of <i>Much Ado About Nothing.</i> Published in London and New York by John Tallis & Co.', 'physicalDescription': 'Full length, decorated portrait of Mr E. L. Davenport as Benedict in Act II, Scene 3 of <i>Much Ado About Nothing.</i>', 'artistMakerPerson': [{'name': {'text': 'Sherratt, T.', 'id': 'A26458'}, 'association': {'text': 'engraver', 'id': 'x30813'}, 'note': ''}, {'name': {'text': 'Tallis, John', 'id': 'A24897'}, 'association': {'text': 'publisher', 'id': 'x32600'}, 'note': ''}], 'artistMakerOrganisations': [], 'artistMakerPeople': [], 'materials': [{'text': 'printing ink', 'id': 'AAT187371'}, {'text': 'paper', 'id': 'x30308'}], 'techniques': [{'text': 'print-making', 'id': 'AAT131119'}, {'text': 'etching (corroding)', 'id': 'AAT53840'}], 'materialsAndTechniques': 'etching, ink on paper', 'categories': [{'text': 'Entertainment & Leisure', 'id': 'THES48959'}, {'text': 'Prints', 'id': 'THES48903'}], 'styles': [], 'collectionCode': {'text': 'T&P', 'id': 'THES48602'}, 'images': ['2010EF8437'], 'imageResolution': 'high', 'galleryLocations': [{'current': {'text': 'F21A (BH)', 'id': 'THES49576'}, 'free': '', 'case': '4A', 'shelf': 'BAY4', 'box': 'HB55'}], 'partTypes': [[{'text': 'prints', 'id': 'AAT41273'}], [{'text': 'etchings', 'id': 'AAT41365'}]], 'contentWarnings': [{'apprise': '', 'note': ''}], 'placesOfOrigin': [{'place': {'text': 'London', 'id': 'x28980'}, 'association': {'text': 'published', 'id': 'x30682'}, 'note': ''}, {'place': {'text': 'New York (City)', 'id': 'x29030'}, 'association': {'text': 'published', 'id': 'x30682'}, 'note': ''}], 'productionDates': [{'date': {'text': '19th century', 'earliest': '1800-01-01', 'latest': '1900-12-31'}, 'association': {'text': 'published', 'id': 'x30682'}, 'note': ''}], 'associatedObjects': [], 'creditLine': '', 'dimensions': [{'dimension': 'Height', 'value': '34', 'unit': 'cm', 'qualifier': '', 'date': {'text': '', 'earliest': None, 'latest': None}, 'part': 'Print size', 'note': ''}, {'dimension': 'Width', 'value': '23.8', 'unit': 'cm', 'qualifier': '', 'date': {'text': '', 'earliest': None, 'latest': None}, 'part': 'Print size', 'note': ''}], 'dimensionsNote': '', 'marksAndInscriptions': [], 'objectHistory': '', 'historicalContext': '', 'briefDescription': 'Portrait of Mr E. L. Davenport as Benedict in Act II, Scene 3 of <i>Much Ado About Nothing.</i> Published in London and New York by John Tallis & Co. 19th c. Harry Beard Collection.', 'bibliographicReferences': [], 'production': '', 'productionType': {'text': '', 'id': ''}, 'contentDescription': '', 'contentPlaces': [], 'associatedPlaces': [], 'contentPerson': [{'text': 'Davenport, E. L. (Mr)', 'id': 'N10244'}], 'associatedPerson': [], 'contentOrganisations': [], 'associatedOrganisations': [], 'contentPeople': [], 'associatedPeople': [], 'contentEvents': [], 'associatedEvents': [], 'contentOthers': [], 'contentConcepts': [], 'contentLiteraryRefs': ['Much Ado About Nothing'], 'galleryLabels': [], 'partNumbers': ['S.4489-2009'], 'accessionNumberNum': '4489', 'accessionNumberPrefix': 'S', 'accessionYear': 2009, 'otherNumbers': [{'type': {'text': 'H Beard collection numbering', 'id': 'THES50444'}, 'number': 'F.107-56'}], 'copyNumber': '', 'aspects': ['WHOLE'], 'assets': [], 'recordModificationDate': '2022-02-21', 'recordCreationDate': '2009-08-07'}\n",
      "{'systemNumber': 'O1136075', 'accessionNumber': 'S.2282-2009', 'objectType': 'Print', 'titles': [{'title': 'H Beard Print Collection', 'type': 'named collection'}], 'summaryDescription': 'Print depicting Charles Young as Iago in <i>Othello</i>.', 'physicalDescription': 'Print depicting Charles Young as Iago in <i>Othello</i>, Harry Beard Collection', 'artistMakerPerson': [{'name': {'text': 'Wageman, Thomas Charles', 'id': 'A5109'}, 'association': {'text': 'artist', 'id': 'AAT25103'}, 'note': ''}, {'name': {'text': 'Woolnoth, Thomas A.', 'id': 'A26494'}, 'association': {'text': 'engraver', 'id': 'x30813'}, 'note': ''}], 'artistMakerOrganisations': [], 'artistMakerPeople': [], 'materials': [{'text': 'paper', 'id': 'x30308'}, {'text': 'ink', 'id': 'AAT15012'}], 'techniques': [{'text': 'stipple engraving', 'id': 'AAT53239'}, {'text': 'hand-colouring', 'id': 'AAT133555'}, {'text': 'print-making', 'id': 'AAT131119'}], 'materialsAndTechniques': 'Hand coloured stipple engraving', 'categories': [{'text': 'Prints', 'id': 'THES48903'}, {'text': 'Entertainment & Leisure', 'id': 'THES48959'}], 'styles': [], 'collectionCode': {'text': 'T&P', 'id': 'THES48602'}, 'images': ['2010EF9148'], 'imageResolution': 'high', 'galleryLocations': [{'current': {'text': 'F21A (BH)', 'id': 'THES49576'}, 'free': '', 'case': '4A', 'shelf': 'BAY4', 'box': 'HB56'}], 'partTypes': [[{'text': 'prints', 'id': 'AAT41273'}], [{'text': 'stipple engravings', 'id': 'AAT41364'}]], 'contentWarnings': [{'apprise': '', 'note': ''}], 'placesOfOrigin': [{'place': {'text': 'london', 'id': 'x28980'}, 'association': {'text': 'published', 'id': 'x30682'}, 'note': ''}], 'productionDates': [{'date': {'text': '1829', 'earliest': '1829-01-01', 'latest': '1829-12-31'}, 'association': {'text': 'published', 'id': 'x30682'}, 'note': ''}], 'associatedObjects': [], 'creditLine': '', 'dimensions': [{'dimension': 'Height', 'value': '28.4', 'unit': 'cm', 'qualifier': '', 'date': {'text': '', 'earliest': None, 'latest': None}, 'part': 'Print size', 'note': ''}, {'dimension': 'Width', 'value': '21.1', 'unit': 'cm', 'qualifier': '', 'date': {'text': '', 'earliest': None, 'latest': None}, 'part': 'Print size', 'note': ''}], 'dimensionsNote': '', 'marksAndInscriptions': [], 'objectHistory': '', 'historicalContext': '', 'briefDescription': 'Print depicting Charles Young as Iago in <i>Othello</i>, Harry Beard Collection.', 'bibliographicReferences': [], 'production': '', 'productionType': {'text': '', 'id': ''}, 'contentDescription': '', 'contentPlaces': [], 'associatedPlaces': [], 'contentPerson': [{'text': 'Young, Charles Mayne', 'id': 'N2847'}], 'associatedPerson': [], 'contentOrganisations': [], 'associatedOrganisations': [], 'contentPeople': [], 'associatedPeople': [], 'contentEvents': [], 'associatedEvents': [], 'contentOthers': [], 'contentConcepts': [], 'contentLiteraryRefs': ['Othello'], 'galleryLabels': [], 'partNumbers': ['S.2282-2009'], 'accessionNumberNum': '2282', 'accessionNumberPrefix': 'S', 'accessionYear': 2009, 'otherNumbers': [{'type': {'text': 'H Beard collection numbering', 'id': 'THES50444'}, 'number': 'F.109-17'}], 'copyNumber': '', 'aspects': ['WHOLE'], 'assets': [], 'recordModificationDate': '2022-02-21', 'recordCreationDate': '2009-08-07'}\n",
      "{'systemNumber': 'O1136081', 'accessionNumber': 'S.4483-2009', 'objectType': 'Print', 'titles': [{'title': 'H Beard Print Collection', 'type': 'named collection'}], 'summaryDescription': \"A print of a drawing by Balliol Salmon depicting a 'Limelight' performace of <i>A Midsummer Night's Dream,</i> a pastoral play held in Regent's Park. Published in The Graphic.\", 'physicalDescription': \"Print depicting a 'Limelight' performace of <i>A Midsummer Night's Dream,</i> a pastoral play held in Regent's Park. Copy of a drawing reprinted in The Graphic.\", 'artistMakerPerson': [{'name': {'text': 'Salmon, Balliol', 'id': 'A27887'}, 'association': {'text': 'artist', 'id': 'AAT25103'}, 'note': ''}], 'artistMakerOrganisations': [{'name': {'text': 'The Graphic', 'id': 'A25336'}, 'association': {'text': 'publisher', 'id': 'x32600'}, 'note': ''}], 'artistMakerPeople': [], 'materials': [{'text': 'printing ink', 'id': 'AAT187371'}, {'text': 'paper', 'id': 'x30308'}], 'techniques': [{'text': 'print-making', 'id': 'AAT131119'}], 'materialsAndTechniques': 'print, ink on paper', 'categories': [{'text': 'Entertainment & Leisure', 'id': 'THES48959'}, {'text': 'Prints', 'id': 'THES48903'}], 'styles': [], 'collectionCode': {'text': 'T&P', 'id': 'THES48602'}, 'images': ['2010EF8526'], 'imageResolution': 'low', 'galleryLocations': [{'current': {'text': 'F21A (BH)', 'id': 'THES49576'}, 'free': '', 'case': '4A', 'shelf': 'BAY4', 'box': 'HB55'}], 'partTypes': [[{'text': 'prints', 'id': 'AAT41273'}]], 'contentWarnings': [{'apprise': '', 'note': ''}], 'placesOfOrigin': [{'place': {'text': 'London', 'id': 'x28980'}, 'association': {'text': 'published', 'id': 'x30682'}, 'note': ''}], 'productionDates': [{'date': {'text': '22nd June 1901', 'earliest': '1901-06-22', 'latest': '1901-06-22'}, 'association': {'text': 'published', 'id': 'x30682'}, 'note': ''}], 'associatedObjects': [], 'creditLine': '', 'dimensions': [{'dimension': 'Height', 'value': '39.6', 'unit': 'cm', 'qualifier': '', 'date': {'text': '', 'earliest': None, 'latest': None}, 'part': 'Print size', 'note': ''}, {'dimension': 'Width', 'value': '26.9', 'unit': 'cm', 'qualifier': '', 'date': {'text': '', 'earliest': None, 'latest': None}, 'part': 'Print size', 'note': ''}], 'dimensionsNote': '', 'marksAndInscriptions': [{'content': '', 'inscriber': {'name': {'text': '', 'id': ''}, 'association': {'text': '', 'id': ''}}, 'date': {'text': '', 'earliest': None, 'latest': None}, 'description': '', 'interpretation': '', 'language': '', 'medium': '', 'method': '', 'position': '', 'script': '', 'translation': '', 'transliteration': '', 'type': '', 'note': 'Printed text articles and images are partially visible on the prints reverse.'}], 'objectHistory': '', 'historicalContext': '', 'briefDescription': \"Print depicting a 'Limelight' performace of <i>A Midsummer Night's Dream,</i> a pastoral play held in Regent's Park. Published in The Graphic on 22nd June 1901, Harry Beard Collection.\", 'bibliographicReferences': [], 'production': '', 'productionType': {'text': '', 'id': ''}, 'contentDescription': '', 'contentPlaces': [{'text': \"Regent's Park\", 'id': 'x31210'}], 'associatedPlaces': [], 'contentPerson': [], 'associatedPerson': [], 'contentOrganisations': [], 'associatedOrganisations': [], 'contentPeople': [], 'associatedPeople': [], 'contentEvents': [], 'associatedEvents': [], 'contentOthers': [], 'contentConcepts': [], 'contentLiteraryRefs': [\"A Midsummer Night's Dream\"], 'galleryLabels': [], 'partNumbers': ['S.4483-2009'], 'accessionNumberNum': '4483', 'accessionNumberPrefix': 'S', 'accessionYear': 2009, 'otherNumbers': [{'type': {'text': 'H Beard collection numbering', 'id': 'THES50444'}, 'number': 'F.107-47'}], 'copyNumber': '', 'aspects': ['WHOLE'], 'assets': [], 'recordModificationDate': '2022-02-21', 'recordCreationDate': '2009-08-07'}\n",
      "{'systemNumber': 'O1136082', 'accessionNumber': 'S.4484-2009', 'objectType': 'Print', 'titles': [{'title': 'H Beard Print Collection', 'type': 'named collection'}], 'summaryDescription': 'Portrait of David Garrick as Benedick in Act II, Scene 3 of <i>Much Ado About Nothing.</i> Published by J. Wenman.', 'physicalDescription': 'Full length, hand coloured portrait of David Garrick as Benedick in Act II, Scene 3 of <i>Much Ado About Nothing.</i>', 'artistMakerPerson': [], 'artistMakerOrganisations': [{'name': {'text': 'J. Wenman', 'id': 'A26547'}, 'association': {'text': 'publisher', 'id': 'x32600'}, 'note': ''}], 'artistMakerPeople': [], 'materials': [{'text': 'printing ink', 'id': 'AAT187371'}, {'text': 'paper', 'id': 'x30308'}, {'text': 'wash', 'id': 'AAT11051'}], 'techniques': [{'text': 'print-making', 'id': 'AAT131119'}, {'text': 'engraving (printing process)', 'id': 'AAT53225'}, {'text': 'painting', 'id': 'x30598'}, {'text': 'hand-colouring', 'id': 'AAT133555'}], 'materialsAndTechniques': 'engraving, ink and wash on paper', 'categories': [{'text': 'Entertainment & Leisure', 'id': 'THES48959'}, {'text': 'Prints', 'id': 'THES48903'}], 'styles': [], 'collectionCode': {'text': 'T&P', 'id': 'THES48602'}, 'images': ['2010EF8431'], 'imageResolution': 'high', 'galleryLocations': [{'current': {'text': 'F21A (BH)', 'id': 'THES49576'}, 'free': '', 'case': '4A', 'shelf': 'BAY4', 'box': 'HB55'}], 'partTypes': [[{'text': 'prints', 'id': 'AAT41273'}], [{'text': 'engravings', 'id': 'AAT41340'}]], 'contentWarnings': [{'apprise': '', 'note': ''}], 'placesOfOrigin': [{'place': {'text': 'united kingdom', 'id': 'x29336'}, 'association': {'text': 'published', 'id': 'x30682'}, 'note': ''}], 'productionDates': [{'date': {'text': '1st July 1778', 'earliest': '1778-07-01', 'latest': '1778-07-01'}, 'association': {'text': 'published', 'id': 'x30682'}, 'note': ''}], 'associatedObjects': [], 'creditLine': '', 'dimensions': [{'dimension': 'Height', 'value': '14', 'unit': 'cm', 'qualifier': '', 'date': {'text': '', 'earliest': None, 'latest': None}, 'part': 'Print size', 'note': ''}, {'dimension': 'Width', 'value': '10', 'unit': 'cm', 'qualifier': '', 'date': {'text': '', 'earliest': None, 'latest': None}, 'part': 'Print size', 'note': ''}, {'dimension': 'Height', 'value': '28.7', 'unit': 'cm', 'qualifier': '', 'date': {'text': '', 'earliest': None, 'latest': None}, 'part': 'Total including mount', 'note': ''}, {'dimension': 'Width', 'value': '22.2', 'unit': 'cm', 'qualifier': '', 'date': {'text': '', 'earliest': None, 'latest': None}, 'part': 'Total including mount', 'note': ''}], 'dimensionsNote': '', 'marksAndInscriptions': [], 'objectHistory': '', 'historicalContext': '', 'briefDescription': 'Portrait of David Garrick as Benedick in Act II, Scene 3 of <i>Much Ado About Nothing.</i> Published by J. Wenman on 1st July 1778, Harry Beard Collection.', 'bibliographicReferences': [], 'production': '', 'productionType': {'text': '', 'id': ''}, 'contentDescription': '', 'contentPlaces': [], 'associatedPlaces': [], 'contentPerson': [{'text': 'Garrick, David', 'id': 'N1281'}], 'associatedPerson': [], 'contentOrganisations': [], 'associatedOrganisations': [], 'contentPeople': [], 'associatedPeople': [], 'contentEvents': [], 'associatedEvents': [], 'contentOthers': [], 'contentConcepts': [], 'contentLiteraryRefs': ['Much Ado About Nothing'], 'galleryLabels': [], 'partNumbers': ['S.4484-2009'], 'accessionNumberNum': '4484', 'accessionNumberPrefix': 'S', 'accessionYear': 2009, 'otherNumbers': [{'type': {'text': 'H Beard collection numbering', 'id': 'THES50444'}, 'number': 'F.107-51'}], 'copyNumber': '', 'aspects': ['WHOLE'], 'assets': [], 'recordModificationDate': '2022-02-21', 'recordCreationDate': '2009-08-07'}\n",
      "{'systemNumber': 'O1140577', 'accessionNumber': 'S.3086-2009', 'objectType': 'Print', 'titles': [{'title': 'H Beard Print Collection', 'type': 'named collection'}], 'summaryDescription': 'Set design for the pleasant countryside and farmland on the Island of Naxos in Act III of the opera <i>Venus Jalouse</i> or <i>Jealous Venus</i> performed at the Teatro Novissimo in Venice.', 'physicalDescription': 'Etched set design for the pleasant countryside and farmland on the Island of Naxos in Act III of the opera <i>Venus Jalouse</i> or <i>Jealous Venus</i> performed at the Teatro Novissimo in Venice.', 'artistMakerPerson': [{'name': {'text': 'Torelli, Giacomo', 'id': 'A26732'}, 'association': {'text': 'artist', 'id': 'AAT25103'}, 'note': ''}, {'name': {'text': 'Aveline, Pierre', 'id': 'A29194'}, 'association': {'text': 'etcher', 'id': 'AAT25174'}, 'note': ''}, {'name': {'text': 'de Roy, Privil', 'id': 'A29195'}, 'association': {'text': 'etchers', 'id': 'AAT25174'}, 'note': ''}], 'artistMakerOrganisations': [], 'artistMakerPeople': [], 'materials': [{'text': 'printing ink', 'id': 'AAT187371'}, {'text': 'paper', 'id': 'x30308'}], 'techniques': [{'text': 'print-making', 'id': 'AAT131119'}, {'text': 'etching (corroding)', 'id': 'AAT53840'}], 'materialsAndTechniques': 'etching, ink on paper', 'categories': [{'text': 'Prints', 'id': 'THES48903'}, {'text': 'Entertainment & Leisure', 'id': 'THES48959'}], 'styles': [], 'collectionCode': {'text': 'T&P', 'id': 'THES48602'}, 'images': ['2010EH6649'], 'imageResolution': 'high', 'galleryLocations': [{'current': {'text': 'F21A', 'id': 'THES49576'}, 'free': '', 'case': '4A', 'shelf': 'BAY5', 'box': 'HB74'}], 'partTypes': [[{'text': 'prints', 'id': 'AAT41273'}], [{'text': 'etchings', 'id': 'AAT41365'}]], 'contentWarnings': [{'apprise': '', 'note': ''}], 'placesOfOrigin': [{'place': {'text': 'italy', 'id': 'x28927'}, 'association': {'text': 'printed', 'id': 'x46159'}, 'note': ''}], 'productionDates': [{'date': {'text': 'late 17th century', 'earliest': '1650-01-01', 'latest': '1700-12-31'}, 'association': {'text': 'printed', 'id': 'AAT53319'}, 'note': ''}], 'associatedObjects': [{'object': {'text': 'S.3078-2009', 'id': 'O1140442'}, 'association': 'Ensemble'}, {'object': {'text': 'S.3079-2009', 'id': 'O1140444'}, 'association': 'Ensemble'}, {'object': {'text': 'S.3080-2009', 'id': 'O1140449'}, 'association': 'Ensemble'}, {'object': {'text': 'S.3081-2009', 'id': 'O1140451'}, 'association': 'Ensemble'}, {'object': {'text': 'S.3082-2009', 'id': 'O1140453'}, 'association': 'Ensemble'}, {'object': {'text': 'S.3083-2009', 'id': 'O1140454'}, 'association': 'Ensemble'}, {'object': {'text': 'S.3084-2009', 'id': 'O1140503'}, 'association': 'Ensemble'}, {'object': {'text': 'S.3085-2009', 'id': 'O1140505'}, 'association': 'Ensemble'}, {'object': {'text': 'S.3087-2009', 'id': 'O1140579'}, 'association': 'Duplicate'}, {'object': {'text': 'S.3088-2009', 'id': 'O1140580'}, 'association': 'Ensemble'}], 'creditLine': '', 'dimensions': [{'dimension': 'Height', 'value': '26.8', 'unit': 'cm', 'qualifier': '', 'date': {'text': '', 'earliest': None, 'latest': None}, 'part': 'Print size', 'note': ''}, {'dimension': 'Width', 'value': '17.6', 'unit': 'cm', 'qualifier': '', 'date': {'text': '', 'earliest': None, 'latest': None}, 'part': 'Print size', 'note': ''}], 'dimensionsNote': '', 'marksAndInscriptions': [], 'objectHistory': '', 'historicalContext': '', 'briefDescription': 'Set design for the pleasant countryside and farmland on the Island of Naxos in Act III of the opera <i>Venus Jalouse</i> or <i>Jealous Venus</i> performed at the Teatro Novissimo in Venice in 1643, Harry Beard Collection.', 'bibliographicReferences': [], 'production': '', 'productionType': {'text': '', 'id': ''}, 'contentDescription': '', 'contentPlaces': [], 'associatedPlaces': [], 'contentPerson': [], 'associatedPerson': [], 'contentOrganisations': [], 'associatedOrganisations': [], 'contentPeople': [], 'associatedPeople': [], 'contentEvents': [], 'associatedEvents': [], 'contentOthers': [], 'contentConcepts': [], 'contentLiteraryRefs': ['Venere Gelosa', 'Jealous Venus', 'Venus Jalouse'], 'galleryLabels': [], 'partNumbers': ['S.3086-2009'], 'accessionNumberNum': '3086', 'accessionNumberPrefix': 'S', 'accessionYear': 2009, 'otherNumbers': [{'type': {'text': 'H Beard collection numbering', 'id': 'THES50444'}, 'number': 'F.139-9'}], 'copyNumber': '', 'aspects': ['WHOLE'], 'assets': [], 'recordModificationDate': '2022-02-21', 'recordCreationDate': '2009-11-17'}\n",
      "{'systemNumber': 'O1171969', 'accessionNumber': 'S.1827-2010', 'objectType': 'Costume design', 'titles': [{'title': 'Drury Lane Design Collection', 'type': 'named collection'}], 'summaryDescription': 'Costume design by Attilio Comelli for a chorus character in <i>Babes in the Wood</i> at the Theatre Royal Drury Lane, 1907-08.\\r\\n\\r\\nThis production of <i>Babes in the Wood</i> also featured characters from the legend of <i>Robin Hood</i>.', 'physicalDescription': 'Costume design for a chorus character in <i>Babes in the Wood</i> at the Theatre Royal Drury Lane. Female figure in a pink and white dress, around the dress there are large striped white and beige balls, probably intended to look like large sweets, the figure also carries one of these sweets. Signed.', 'artistMakerPerson': [{'name': {'text': 'Comelli, Attilio', 'id': 'A30582'}, 'association': {'text': 'designer', 'id': 'x36960'}, 'note': ''}], 'artistMakerOrganisations': [], 'artistMakerPeople': [], 'materials': [{'text': 'ink', 'id': 'AAT15012'}, {'text': 'watercolour', 'id': 'x33202'}, {'text': 'pencil', 'id': 'x30347'}, {'text': 'millboard', 'id': 'AAT14233'}], 'techniques': [{'text': 'free-hand drawing', 'id': 'AAT53181'}, {'text': 'painting (image-making)', 'id': 'AAT54216'}], 'materialsAndTechniques': 'Pen and ink and watercolour', 'categories': [{'text': 'Entertainment & Leisure', 'id': 'THES48959'}, {'text': 'Drawings', 'id': 'THES48966'}, {'text': 'Paintings', 'id': 'THES48917'}], 'styles': [], 'collectionCode': {'text': 'T&P', 'id': 'THES48602'}, 'images': ['2011EU9106'], 'imageResolution': 'high', 'galleryLocations': [{'current': {'text': 'F21A', 'id': 'THES49576'}, 'free': '', 'case': '4B', 'shelf': 'BAY6', 'box': 'DLDC14'}], 'partTypes': [[{'text': 'costume design', 'id': 'AAT163423'}], [{'text': 'drawings', 'id': 'AAT33973'}], [{'text': 'paintings', 'id': 'AAT33618'}]], 'contentWarnings': [{'apprise': '', 'note': ''}], 'placesOfOrigin': [{'place': {'text': 'London', 'id': 'x28980'}, 'association': {'text': 'drawn', 'id': 'x30545'}, 'note': 'possibly'}], 'productionDates': [{'date': {'text': '1907', 'earliest': '1907-01-01', 'latest': '1907-12-31'}, 'association': {'text': 'drawn', 'id': 'x30545'}, 'note': ''}], 'associatedObjects': [], 'creditLine': 'Given by George Hoare, Archivist of the Theatre Royal Drury Lane', 'dimensions': [{'dimension': 'Height', 'value': '36.8', 'unit': 'cm', 'qualifier': '', 'date': {'text': '', 'earliest': None, 'latest': None}, 'part': '', 'note': ''}, {'dimension': 'Width', 'value': '26.6', 'unit': 'cm', 'qualifier': '', 'date': {'text': '', 'earliest': None, 'latest': None}, 'part': '', 'note': ''}], 'dimensionsNote': '', 'marksAndInscriptions': [{'content': '', 'inscriber': {'name': {'text': '', 'id': ''}, 'association': {'text': '', 'id': ''}}, 'date': {'text': '', 'earliest': None, 'latest': None}, 'description': '', 'interpretation': '', 'language': '', 'medium': '', 'method': '', 'position': '', 'script': '', 'translation': '', 'transliteration': ' ', 'type': '', 'note': ''}], 'objectHistory': '', 'historicalContext': '', 'briefDescription': 'Costume design by Attilio Comelli for a chorus character in <i>Babes in the Wood</i> at the Theatre Royal Drury Lane, 1907, Drury Lane Design Collection.', 'bibliographicReferences': [], 'production': '', 'productionType': {'text': '', 'id': ''}, 'contentDescription': '', 'contentPlaces': [], 'associatedPlaces': [], 'contentPerson': [], 'associatedPerson': [], 'contentOrganisations': [], 'associatedOrganisations': [], 'contentPeople': [], 'associatedPeople': [], 'contentEvents': [], 'associatedEvents': [], 'contentOthers': [], 'contentConcepts': [], 'contentLiteraryRefs': ['Babes in the Wood'], 'galleryLabels': [], 'partNumbers': ['S.1827-2010'], 'accessionNumberNum': '1827', 'accessionNumberPrefix': 'S', 'accessionYear': 2010, 'otherNumbers': [], 'copyNumber': '', 'aspects': ['WHOLE'], 'assets': [], 'recordModificationDate': '2022-02-21', 'recordCreationDate': '2010-09-03'}\n",
      "{'systemNumber': 'O140816', 'accessionNumber': 'S.134:102-2007', 'objectType': 'Photograph', 'titles': [{'title': 'Guy Little Theatrical Photograph', 'type': 'named collection'}], 'summaryDescription': 'Photograph of H. J. Montague.\\r\\n\\r\\nPhotography was a novel and exciting development in Victorian days. Most actors and actresses had studio photographs taken, in everyday dress or theatrical costume, for ‘cartes de visite’, and later ‘cabinet cards’.  Both were albumen prints made from glass negatives, attached to stiff card backing printed with the photographer’s name. \\r\\n\\r\\n‘Cartes de visite’, the size of  formal visiting cards, were patented in 1854 and produced in their millions during the 1860s when it became fashionable to collect them. Their subjects included scenic views, tourist attractions and works of art, as well as portraits. They were superseded in the late 1870s by the larger and sturdier ‘cabinet cards’ whose popularity waned in turn during the 1890s in favour of postcards and studio portraits.\\r\\n \\r\\nThis photograph comes from a large collection of ‘cartes de visite’ and ‘cabinet cards’ removed from their backings and mounted in albums by Guy Tristram Little (d.1953) who bequeathed them to the V&A.  A collector of greetings cards, games and photographs, Guy Little was a partner in the legal firm Messrs Milles Jennings White & Foster, and the solicitor and executor of Mrs. Gabrielle Enthoven, whose theatrical collection formed the basis of the Theatre Collections at the V&A.', 'physicalDescription': 'H. J. Montague', 'artistMakerPerson': [{'name': {'text': 'Mora, Walter Henry', 'id': 'A20612'}, 'association': {'text': 'photographer', 'id': 'AAT25687'}, 'note': ''}], 'artistMakerOrganisations': [], 'artistMakerPeople': [], 'materials': [{'text': 'photographic paper', 'id': 'AAT14190'}], 'techniques': [{'text': 'photography', 'id': 'AAT54225'}], 'materialsAndTechniques': 'Sepia photograph on paper', 'categories': [{'text': 'Photographs', 'id': 'THES48910'}, {'text': 'Portraits', 'id': 'THES48906'}], 'styles': [], 'collectionCode': {'text': 'T&P', 'id': 'THES48602'}, 'images': ['2009BX7576'], 'imageResolution': 'high', 'galleryLocations': [{'current': {'text': 'F21C (BH)', 'id': 'THES49594'}, 'free': '', 'case': '1A', 'shelf': 'BAY1', 'box': 'GL4'}], 'partTypes': [[{'text': 'cartes-de-visite', 'id': 'AAT127141'}], [{'text': 'photographs', 'id': 'AAT46300'}]], 'contentWarnings': [{'apprise': '', 'note': ''}], 'placesOfOrigin': [{'place': {'text': 'London', 'id': 'x28980'}, 'association': {'text': 'photographed', 'id': 'x30151'}, 'note': ''}], 'productionDates': [{'date': {'text': 'ca. 19th century', 'earliest': '1795-01-01', 'latest': '1903-12-31'}, 'association': {'text': 'made', 'id': 'x28654'}, 'note': ''}], 'associatedObjects': [], 'creditLine': 'Bequeathed by Guy Little', 'dimensions': [{'dimension': 'Length', 'value': '89', 'unit': 'mm', 'qualifier': '', 'date': {'text': '', 'earliest': None, 'latest': None}, 'part': '', 'note': ''}, {'dimension': 'Width', 'value': '56', 'unit': 'mm', 'qualifier': '', 'date': {'text': '', 'earliest': None, 'latest': None}, 'part': '', 'note': ''}], 'dimensionsNote': '', 'marksAndInscriptions': [], 'objectHistory': 'This is one of the outstanding collection of 19th Century photographs owned by Guy Little presented to the museum in the early 20th Century.', 'historicalContext': '', 'briefDescription': 'Carte-de-visite, 19th c. Guy Little Collection, H. J. Montague', 'bibliographicReferences': [], 'production': '', 'productionType': {'text': '', 'id': ''}, 'contentDescription': '', 'contentPlaces': [], 'associatedPlaces': [], 'contentPerson': [{'text': 'Montague, H. J.', 'id': 'N6391'}], 'associatedPerson': [], 'contentOrganisations': [], 'associatedOrganisations': [], 'contentPeople': [], 'associatedPeople': [], 'contentEvents': [], 'associatedEvents': [], 'contentOthers': [], 'contentConcepts': [], 'contentLiteraryRefs': [], 'galleryLabels': [], 'partNumbers': ['S.134:102-2007'], 'accessionNumberNum': '134', 'accessionNumberPrefix': 'S', 'accessionYear': 2007, 'otherNumbers': [{'type': {'text': 'Guy Little album identification numbering', 'id': 'THES50304'}, 'number': 'GLC II.i.16.5'}], 'copyNumber': '', 'aspects': ['WHOLE'], 'assets': [], 'recordModificationDate': '2022-03-02', 'recordCreationDate': '2007-11-21'}\n",
      "{'systemNumber': 'O140815', 'accessionNumber': 'S.134:101-2007', 'objectType': 'Photograph', 'titles': [{'title': 'Guy Little Theatrical Photograph', 'type': 'named collection'}], 'summaryDescription': 'Photograph of H. J. Montague.\\r\\n\\r\\nPhotography was a novel and exciting development in Victorian days. Most actors and actresses had studio photographs taken, in everyday dress or theatrical costume, for ‘cartes de visite’, and later ‘cabinet cards’.  Both were albumen prints made from glass negatives, attached to stiff card backing printed with the photographer’s name. \\r\\n\\r\\n‘Cartes de visite’, the size of  formal visiting cards, were patented in 1854 and produced in their millions during the 1860s when it became fashionable to collect them. Their subjects included scenic views, tourist attractions and works of art, as well as portraits. They were superseded in the late 1870s by the larger and sturdier ‘cabinet cards’ whose popularity waned in turn during the 1890s in favour of postcards and studio portraits.\\r\\n \\r\\nThis photograph comes from a large collection of ‘cartes de visite’ and ‘cabinet cards’ removed from their backings and mounted in albums by Guy Tristram Little (d.1953) who bequeathed them to the V&A.  A collector of greetings cards, games and photographs, Guy Little was a partner in the legal firm Messrs Milles Jennings White & Foster, and the solicitor and executor of Mrs. Gabrielle Enthoven, whose theatrical collection formed the basis of the Theatre Collections at the V&A.', 'physicalDescription': 'H. J. Montague', 'artistMakerPerson': [{'name': {'text': 'Unknown', 'id': 'A1848'}, 'association': {'text': 'photographers', 'id': 'AAT25687'}, 'note': ''}], 'artistMakerOrganisations': [], 'artistMakerPeople': [], 'materials': [{'text': 'photographic paper', 'id': 'AAT14190'}], 'techniques': [{'text': 'photography', 'id': 'AAT54225'}], 'materialsAndTechniques': 'Sepia photograph on paper', 'categories': [{'text': 'Photographs', 'id': 'THES48910'}, {'text': 'Portraits', 'id': 'THES48906'}], 'styles': [], 'collectionCode': {'text': 'T&P', 'id': 'THES48602'}, 'images': ['2009BX7575'], 'imageResolution': 'high', 'galleryLocations': [{'current': {'text': 'F21C (BH)', 'id': 'THES49594'}, 'free': '', 'case': '1A', 'shelf': 'BAY1', 'box': 'GL4'}], 'partTypes': [[{'text': 'cartes-de-visite', 'id': 'AAT127141'}], [{'text': 'photographs', 'id': 'AAT46300'}]], 'contentWarnings': [{'apprise': '', 'note': ''}], 'placesOfOrigin': [{'place': {'text': 'Great Britain', 'id': 'x32019'}, 'association': {'text': 'photographed', 'id': 'x30151'}, 'note': ''}], 'productionDates': [{'date': {'text': 'ca. 19th century', 'earliest': '1795-01-01', 'latest': '1903-12-31'}, 'association': {'text': 'made', 'id': 'x28654'}, 'note': ''}], 'associatedObjects': [], 'creditLine': 'Bequeathed by Guy Little', 'dimensions': [{'dimension': 'Length', 'value': '91', 'unit': 'mm', 'qualifier': '', 'date': {'text': '', 'earliest': None, 'latest': None}, 'part': '', 'note': ''}, {'dimension': 'Width', 'value': '58', 'unit': 'mm', 'qualifier': '', 'date': {'text': '', 'earliest': None, 'latest': None}, 'part': '', 'note': ''}], 'dimensionsNote': '', 'marksAndInscriptions': [], 'objectHistory': 'This is one of the outstanding collection of 19th Century photographs owned by Guy Little presented to the museum in the early 20th Century.', 'historicalContext': '', 'briefDescription': 'Carte-de-visite, 19th c. Guy Little Collection, H. J. Montague', 'bibliographicReferences': [], 'production': '', 'productionType': {'text': '', 'id': ''}, 'contentDescription': '', 'contentPlaces': [], 'associatedPlaces': [], 'contentPerson': [{'text': 'Montague, H. J.', 'id': 'N6391'}], 'associatedPerson': [], 'contentOrganisations': [], 'associatedOrganisations': [], 'contentPeople': [], 'associatedPeople': [], 'contentEvents': [], 'associatedEvents': [], 'contentOthers': [], 'contentConcepts': [], 'contentLiteraryRefs': [], 'galleryLabels': [], 'partNumbers': ['S.134:101-2007'], 'accessionNumberNum': '134', 'accessionNumberPrefix': 'S', 'accessionYear': 2007, 'otherNumbers': [{'type': {'text': 'Guy Little album identification numbering', 'id': 'THES50304'}, 'number': 'GLC II.i.16.4'}], 'copyNumber': '', 'aspects': ['WHOLE'], 'assets': [], 'recordModificationDate': '2022-03-02', 'recordCreationDate': '2007-11-21'}\n"
     ]
    }
   ],
   "source": [
    "keys=list(all_id_fulltexts.keys())\n",
    "counter=0\n",
    "for key in keys:\n",
    "    print(all_id_fulltexts[key])\n",
    "    counter+=1\n",
    "    if counter>9:\n",
    "        break"
   ]
  },
  {
   "cell_type": "code",
   "execution_count": 27,
   "metadata": {},
   "outputs": [
    {
     "name": "stdout",
     "output_type": "stream",
     "text": [
      "{'systemNumber': 'O323261', 'accessionNumber': 'M.786-1983', 'objectType': \"Biscuit tin manufacturer's sample\", 'titles': [{'title': 'Venice', 'type': 'trade title'}, {'title': 'M.J. Franklin Collection of British Biscuit Tins (Advertising Ephemera)', 'type': 'named collection'}], 'summaryDescription': \"The British biscuit tin came about when the Licensed Grocer's Act of 1861 allowed groceries to be individually packaged and sold. Coinciding with the removal of the duty on paper for printed labels. It was only a short step to the idea of printing directly on to tinplate. The new process of offset lithography, patented in 1877 allowed multicoloured designs to be printed on to exotically shaped tins.\\r\\n\\r\\nThe most exotic designs were produced in the early years of the 20th century, just prior to the First World War. In the 1920s and 1930s, costs had risen substantially and the design of biscuit tins tended to be more conservative, with the exception of the tins targeted at the Christmas market and intended to appeal primarily to children. The designs, generally speaking are a barometer of popular interests.\\r\\n\\r\\nThe advent of the Second World War stopped all production of decorative tin ware and after it ended in 1945, the custom never really revived.\", 'physicalDescription': \"Biscuit tin for manufacture's samples, offset litho printed tinplate with a view of a Venetian canal on the lid.\", 'artistMakerPerson': [], 'artistMakerOrganisations': [{'name': {'text': 'Barringer, Wallis & Manners', 'id': 'A3046'}, 'association': {'text': 'made by', 'id': 'AAT251917'}, 'note': ''}, {'name': {'text': 'William Crawford & Sons', 'id': 'A3038'}, 'association': {'text': 'made for', 'id': 'x30791'}, 'note': ''}], 'artistMakerPeople': [], 'materials': [{'text': 'tinplate', 'id': 'x32089'}], 'techniques': [{'text': 'offset lithography', 'id': 'AAT192900'}], 'materialsAndTechniques': 'Offset litho printed tinplate', 'categories': [{'text': 'Containers', 'id': 'THES48972'}, {'text': 'Metalwork', 'id': 'THES48920'}, {'text': 'Children & Childhood', 'id': 'THES48980'}, {'text': 'Eating', 'id': 'THES48963'}, {'text': 'Food vessels & Tableware', 'id': 'THES48952'}], 'styles': [], 'collectionCode': {'text': 'MET', 'id': 'THES48599'}, 'images': ['2019MG4369', '2019LX6967'], 'imageResolution': 'low', 'galleryLocations': [{'current': {'text': '005', 'id': 'THES297881'}, 'free': '', 'case': '', 'shelf': '', 'box': ''}], 'partTypes': [[{'text': 'Biscuit tin', 'id': ''}]], 'contentWarnings': [{'apprise': '', 'note': ''}], 'placesOfOrigin': [{'place': {'text': 'Mansfield', 'id': 'x34019'}, 'association': {'text': 'made', 'id': 'x28654'}, 'note': ''}], 'productionDates': [{'date': {'text': '1931-1935', 'earliest': '1931-01-01', 'latest': '1935-12-31'}, 'association': {'text': 'made', 'id': 'x28654'}, 'note': ''}], 'associatedObjects': [], 'creditLine': 'Given by M. J. Franklin', 'dimensions': [{'dimension': 'Height', 'value': '3.0', 'unit': 'cm', 'qualifier': '', 'date': {'text': '', 'earliest': None, 'latest': None}, 'part': '', 'note': ''}, {'dimension': 'Width', 'value': '26.9', 'unit': 'cm', 'qualifier': '', 'date': {'text': '', 'earliest': None, 'latest': None}, 'part': '', 'note': ''}, {'dimension': 'Depth', 'value': '14.2', 'unit': 'cm', 'qualifier': '', 'date': {'text': '', 'earliest': None, 'latest': None}, 'part': '', 'note': ''}], 'dimensionsNote': '', 'marksAndInscriptions': [], 'objectHistory': 'M.J. Franklin Collection of British Biscuit Tins.', 'historicalContext': '', 'briefDescription': \"Biscuit tin, (free manufacturer's sample), `Venice', offset litho printed tinplate, Mansfield, made by Barriner, Wallis & Manners for William Crawford & Sons, 1931-35.\", 'bibliographicReferences': [{'reference': {'text': '', 'id': ''}, 'details': '', 'free': 'Michael Franklin, <font -u>British Biscuit Tins</font>, London, Victoria and Albert Museum, 1984, ISBN. 0905209621'}], 'production': 'Issued in an edition of 210,000 with an advertising card inserted inside the lid.', 'productionType': {'text': 'Mass produced', 'id': 'THES48863'}, 'contentDescription': '', 'contentPlaces': [], 'associatedPlaces': [], 'contentPerson': [], 'associatedPerson': [], 'contentOrganisations': [], 'associatedOrganisations': [], 'contentPeople': [], 'associatedPeople': [], 'contentEvents': [], 'associatedEvents': [], 'contentOthers': [], 'contentConcepts': [], 'contentLiteraryRefs': [], 'galleryLabels': [], 'partNumbers': ['M.786-1983'], 'accessionNumberNum': '786', 'accessionNumberPrefix': 'M', 'accessionYear': 1983, 'otherNumbers': [], 'copyNumber': '', 'aspects': ['WHOLE'], 'assets': [], 'recordModificationDate': '2022-01-09', 'recordCreationDate': '2009-06-24'}\n"
     ]
    }
   ],
   "source": [
    "print(all_id_fulltexts[\"O323261\"])"
   ]
  },
  {
   "cell_type": "code",
   "execution_count": 33,
   "metadata": {},
   "outputs": [
    {
     "name": "stdout",
     "output_type": "stream",
     "text": [
      "old cathegories:  ['Subjects', 'Inscription', 'Technique', 'Materials', 'Production place', 'Production date', 'Assoc name', 'Culture', 'Object type', 'Producer name']\n",
      "new cathegories: ['systemNumber', 'accessionNumber', 'objectType', 'titles', 'summaryDescription', 'physicalDescription', 'artistMakerPerson', 'artistMakerOrganisations', 'artistMakerPeople', 'materials', 'techniques', 'materialsAndTechniques', 'categories', 'styles', 'collectionCode', 'images', 'imageResolution', 'galleryLocations', 'partTypes', 'contentWarnings', 'placesOfOrigin', 'productionDates', 'associatedObjects', 'creditLine', 'dimensions', 'dimensionsNote', 'marksAndInscriptions', 'objectHistory', 'historicalContext', 'briefDescription', 'bibliographicReferences', 'production', 'productionType', 'contentDescription', 'contentPlaces', 'associatedPlaces', 'contentPerson', 'associatedPerson', 'contentOrganisations', 'associatedOrganisations', 'contentPeople', 'associatedPeople', 'contentEvents', 'associatedEvents', 'contentOthers', 'contentConcepts', 'contentLiteraryRefs', 'galleryLabels', 'partNumbers', 'accessionNumberNum', 'accessionNumberPrefix', 'accessionYear', 'otherNumbers', 'copyNumber', 'aspects', 'assets', 'recordModificationDate', 'recordCreationDate']\n",
      "common ['inscription', 'technique', 'materials', 'production']\n"
     ]
    }
   ],
   "source": [
    "old_object={'Subjects': 'war; classical mythology; attendant; african', 'Inscription': 'type: language: greek script: greek quoted: έπ]οίησ(ε)ν \\nαμασις. transliteration: ep]ois(e)n \\namasis translation: amasis made me  note: the reading of the is uncertain apart from the name of amasis.', 'Technique': 'painted; incised', 'Materials': 'pottery', 'Production place': 'made in: attica (greece)', 'Production date': '535BC (circa)', 'Assoc name': ' achilles;   penthesileia;   memnon', 'Culture': 'Attic; Archaic Greek', 'Object type': 'amphora', 'Producer name': 'Attributed to: Exekias (painter);  Made by: Exekias (potter, )'}\n",
    "print(\"old cathegories: \",list(old_object.keys()))\n",
    "print(\"new cathegories:\",list(all_id_fulltexts[keys[0]].keys()))\n",
    "common=[]\n",
    "for i in list(old_object.keys()):\n",
    "    for j in list(all_id_fulltexts[keys[0]].keys()):\n",
    "        if i.lower() in j.lower() or j.lower() in i.lower():\n",
    "            # print(i.lower(),j.lower())\n",
    "            if i.lower() not in common and j.lower() not in common:\n",
    "                common.append(i.lower() if len(i)<len(j) else j.lower())\n",
    "print(\"common\",common)"
   ]
  },
  {
   "cell_type": "code",
   "execution_count": 148,
   "metadata": {},
   "outputs": [],
   "source": [
    "new_all_id_fulltexts={}\n",
    "# print(all_id_fulltexts[keys[0]])\n",
    "\n",
    "for k in keys:\n",
    "    new_all_id_fulltexts[k]={}\n",
    "    for i in all_id_fulltexts[k]:\n",
    "        if i not in ['systemNumber',\"collectionCode\", 'productionType','bibliographicReferences','dimensions','dimensionsNote','creditLine',\"images\",\"imageResolution\",\"galleryLocations\",'artistMakerPeople','artistMakerOrganisations','accessionNumber',\"contentWarnings\"]:\n",
    "            if i in [\"materials\", \"techniques\", \"categories\",\"styles\"]:\n",
    "                obj=\"\"\n",
    "                for d in all_id_fulltexts[k][i]:\n",
    "                    obj+=d[\"text\"]+\", \"\n",
    "                new_all_id_fulltexts[k][i]=obj\n",
    "            elif i in [\"titles\"]:\n",
    "                obj=\"\"\n",
    "                for t in all_id_fulltexts[k][i]:\n",
    "                    # print(t)\n",
    "                    obj+=t[\"title\"]+\", \"\n",
    "                # print(obj)\n",
    "                new_all_id_fulltexts[k][i]=obj\n",
    "            elif i in ['artistMakerPerson']:\n",
    "                obj=\"\"\n",
    "                for t in all_id_fulltexts[k][i]:\n",
    "                    # print(t)\n",
    "                    obj+=t[\"name\"][\"text\"].replace(\";\",\"\")+\", \"\n",
    "                new_all_id_fulltexts[k][i]=obj\n",
    "            elif i in [\"partTypes\"]:\n",
    "                obj=\"\"\n",
    "                for t in all_id_fulltexts[k][i]:\n",
    "                    # print(t)\n",
    "                    obj+=t[0][\"text\"].replace(\";\",\"\")+\", \"\n",
    "                new_all_id_fulltexts[k][i]=obj\n",
    "            elif i in [\"placesOfOrigin\"]:\n",
    "                obj=\"\"\n",
    "                for t in all_id_fulltexts[k][i]:\n",
    "                    # print(t)\n",
    "                    obj+=t[\"place\"][\"text\"].replace(\";\",\"\")+\", \"\n",
    "                new_all_id_fulltexts[k][i]=obj\n",
    "            elif i in [\"productionDates\"]:\n",
    "                obj=\"\"\n",
    "                for t in all_id_fulltexts[k][i]:\n",
    "                    # print(t)\n",
    "                    obj+=t[\"date\"][\"text\"].replace(\";\",\"\")+\", \"\n",
    "                new_all_id_fulltexts[k][i]=obj\n",
    "            # elif i in [\"associatedObjects\"]:\n",
    "            #     obj=\"\"\n",
    "            #     for t in all_id_fulltexts[k][i]:\n",
    "            #         obj+=\"associated with \"+t[\"object\"][\"text\"]+\" as \"+t[\"association\"]+\"; \"\n",
    "            #     new_all_id_fulltexts[k][i]=obj\n",
    "            elif i in [\"marksAndInscriptions\"]:\n",
    "                obj=\"\"\n",
    "                for d in all_id_fulltexts[k][i]:\n",
    "                    for q in [\"content\",\"description\",\"interpretation\",\"language\",\"translation\"]:\n",
    "                         if d[q]:\n",
    "                            obj+=d[q].replace(\"'\",\"\").replace('\"',\"\")+\" \"\n",
    "                obj+=\";\"\n",
    "                # print(obj)\n",
    "                new_all_id_fulltexts[k][i]=obj\n",
    "            elif i in [\"associatedObjects\",'contentDescription', 'contentPlaces', 'associatedPlaces', 'contentPerson', 'associatedPerson', 'contentOrganisations', 'associatedOrganisations', 'contentPeople', 'associatedPeople', 'contentEvents', 'associatedEvents', 'contentOthers', 'contentConcepts', 'contentLiteraryRefs', 'galleryLabels', 'partNumbers', 'accessionNumberNum', 'accessionNumberPrefix', 'accessionYear', 'otherNumbers', 'number','copyNumber', 'aspects','assets','recordModificationDate','recordCreationDate']:\n",
    "                continue\n",
    "            else:\n",
    "                new_all_id_fulltexts[k][i]=all_id_fulltexts[k][i]\n",
    "    # break\n",
    "# print(len(new_all_id_fulltexts[keys[0]]))\n",
    "# print(len(all_id_fulltexts[keys[0]]))\n",
    "\n"
   ]
  },
  {
   "cell_type": "code",
   "execution_count": 149,
   "metadata": {},
   "outputs": [],
   "source": [
    "# import json\n",
    "\n",
    "\n",
    "# with open(\"/home/username/open_clip/get_data/text_data/va/va_id_to_fulltext_short.json\",\"w\") as f:\n",
    "#     json.dump(new_all_id_fulltexts,f)\n",
    "\n"
   ]
  },
  {
   "cell_type": "code",
   "execution_count": null,
   "metadata": {},
   "outputs": [],
   "source": [
    "# print(new_all_id_fulltexts[keys[0]].keys())\n",
    "# for key in keys:\n",
    "#     # print(new_all_id_fulltexts[key])\n",
    "#     for k in new_all_id_fulltexts[key]:\n",
    "#         if len(new_all_id_fulltexts[key][k].split(\" \"))>10:\n",
    "#             print(k,\" \", new_all_id_fulltexts[key][k])\n",
    "#     break\n",
    "\n",
    "# long_text_keys=[\"summaryDescription\",\"physicalDescription\",\"marksAndInscriptions\",\"objectHistory\",\"briefDescription\"]"
   ]
  },
  {
   "cell_type": "code",
   "execution_count": 117,
   "metadata": {},
   "outputs": [
    {
     "name": "stdout",
     "output_type": "stream",
     "text": [
      ", Costume design by Reginald de Veulle for a Showgirl in Act II of Yvonne. Full-length female figure in a calf-length sheath dress in purple with jewelled gold straps forming a v-shape at the waist and a similar belt. Worn with a gold headdress. She holds a feathered fan in two shades of purple. Signed by the artist. With swatches of purple and gold fabric pinned at the upper left hand corner., Veulle Reginald de; , watercolour; pencil; paper; cloth; , drawing (image-making); painting (image-making); , Watercolour and pencil on paper with attached fabric swatches, Entertainment & Leisure; Theatre; Musical Theatre; Designs; , , costume design; drawings; paintings; , London; , 1926; , Yvonne / Act II Showgirl / 5 Reggie de Veulle Miss Norman ;, According to the programme, the costumes designed by de Veulle were made by a number of costumiers. Ivy Tresmand's dresses in Acts I & II was by Worth Ltd, and her Act III dress was by Elspeth Fox Pitt. All other dresses and costumes were by Elspeth Fox Pitt. 'Gentlemen's modern dresses' were by Burkinshaw & Knights and uniforms by Morris Angels & Sons, Ltd. Ladies' hats and headdresses were made by Rose Bertin, gentleman's hats by J. Woodrow & Sons Ltd, the hosiery was by Husband, the wigs by Clarkson and the shoes by Rayne and Gamba. , , Costume design by Reginald (Reggie) de Veulle for a Showgirl in Act II of the musical Yvonne at Daly's Theatre, London, 1926. Emile Littler Archive, , \n",
      "2105\n",
      "10\n"
     ]
    }
   ],
   "source": [
    "import re\n",
    "obj=\"\"\n",
    "# long_text_keys=[\"summaryDescription\",\"physicalDescription\",\"marksAndInscriptions\",\"objectHistory\",\"briefDescription\"]\n",
    "\n",
    "# print(new_all_id_fulltexts[keys[0]])\n",
    "for elem in new_all_id_fulltexts[keys[0]]:\n",
    "    to_add=new_all_id_fulltexts[keys[0]][elem]\n",
    "    to_add=to_add.replace(\"\\n\",\"\")\n",
    "    to_add=re.sub(\"</?\\w+>\",\"\",to_add)\n",
    "    obj+=to_add+\", \"\n",
    "print(obj)\n",
    "print(len(obj))\n",
    "print(len(old_object))"
   ]
  },
  {
   "cell_type": "code",
   "execution_count": 104,
   "metadata": {},
   "outputs": [],
   "source": [
    "# %pip install git+https://github.com/LIAAD/yake\n",
    "import yake\n",
    "\n",
    "def get_keywords(text,numOfKeywords=20):\n",
    "    text=text.replace(\"\\n\",\"\")\n",
    "\n",
    "    language = \"en\"\n",
    "    max_ngram_size = 3\n",
    "    deduplication_thresold = 0.9\n",
    "    deduplication_algo = 'seqm'\n",
    "    windowSize = 2\n",
    "    # numOfKeywords = 10\n",
    "\n",
    "    kw_extractor = yake.KeywordExtractor(lan=language, \n",
    "                                        n=max_ngram_size, \n",
    "                                        dedupLim=deduplication_thresold, \n",
    "                                        dedupFunc=deduplication_algo, \n",
    "                                        windowsSize=windowSize, \n",
    "                                        top=numOfKeywords)\n",
    "    keywords = kw_extractor.extract_keywords(text)\n",
    "\n",
    "    # for kw in keywords:\n",
    "    #     print(kw)\n",
    "\n",
    "    kw=[i[0] for i in keywords]\n",
    "    keywords_temp=[]\n",
    "    for i in kw:\n",
    "        i_temp=i.split(\" \")\n",
    "        keywords_temp.extend([j.lower() for j in i_temp])\n",
    "\n",
    "    keywords_string=\"\"\n",
    "    for i in keywords_temp:\n",
    "        if i not in keywords_string:\n",
    "            keywords_string+=i+\" \"\n",
    "    # print(keywords_string)\n",
    "\n",
    "    return keywords_string"
   ]
  },
  {
   "cell_type": "code",
   "execution_count": 105,
   "metadata": {},
   "outputs": [
    {
     "data": {
      "text/plain": [
       "'costume design veulle yvonne emile littler archive elspeth fox pitt showgirl in act daly theatre miss norman reginald percy greenbank by arthur wood '"
      ]
     },
     "execution_count": 105,
     "metadata": {},
     "output_type": "execute_result"
    }
   ],
   "source": [
    "get_keywords(obj)"
   ]
  },
  {
   "cell_type": "code",
   "execution_count": 161,
   "metadata": {},
   "outputs": [
    {
     "name": "stdout",
     "output_type": "stream",
     "text": [
      "total 181065\n",
      "100\n",
      "200\n",
      "300\n",
      "400\n",
      "500\n",
      "600\n",
      "700\n",
      "800\n",
      "900\n",
      "1000\n",
      "1100\n",
      "1200\n",
      "1300\n",
      "1400\n",
      "1500\n",
      "1600\n",
      "1700\n",
      "1800\n",
      "1900\n",
      "2000\n",
      "2100\n",
      "2200\n",
      "2300\n",
      "2400\n",
      "2500\n",
      "2600\n",
      "2700\n",
      "2800\n",
      "2900\n",
      "3000\n",
      "3100\n",
      "3200\n",
      "3300\n",
      "3400\n",
      "3500\n",
      "3600\n",
      "3700\n",
      "3800\n",
      "3900\n",
      "4000\n",
      "4100\n",
      "4200\n",
      "4300\n",
      "4400\n",
      "4500\n",
      "4600\n",
      "4700\n",
      "4800\n",
      "4900\n",
      "5000\n"
     ]
    },
    {
     "ename": "KeyboardInterrupt",
     "evalue": "",
     "output_type": "error",
     "traceback": [
      "\u001b[0;31m---------------------------------------------------------------------------\u001b[0m",
      "\u001b[0;31mKeyboardInterrupt\u001b[0m                         Traceback (most recent call last)",
      "Cell \u001b[0;32mIn[161], line 33\u001b[0m\n\u001b[1;32m     31\u001b[0m \u001b[38;5;28;01mfor\u001b[39;00m w \u001b[38;5;129;01min\u001b[39;00m obj\u001b[38;5;241m.\u001b[39msplit(\u001b[38;5;124m\"\u001b[39m\u001b[38;5;124m \u001b[39m\u001b[38;5;124m\"\u001b[39m):\n\u001b[1;32m     32\u001b[0m     word\u001b[38;5;241m=\u001b[39mw\u001b[38;5;241m.\u001b[39mreplace(\u001b[38;5;124m\"\u001b[39m\u001b[38;5;124m;\u001b[39m\u001b[38;5;124m\"\u001b[39m,\u001b[38;5;124m\"\u001b[39m\u001b[38;5;124m\"\u001b[39m)\u001b[38;5;241m.\u001b[39mreplace(\u001b[38;5;124m\"\u001b[39m\u001b[38;5;124m,\u001b[39m\u001b[38;5;124m\"\u001b[39m,\u001b[38;5;124m\"\u001b[39m\u001b[38;5;124m\"\u001b[39m)\u001b[38;5;241m.\u001b[39mreplace(\u001b[38;5;124m\"\u001b[39m\u001b[38;5;124m.\u001b[39m\u001b[38;5;124m\"\u001b[39m,\u001b[38;5;124m\"\u001b[39m\u001b[38;5;124m\"\u001b[39m)\n\u001b[0;32m---> 33\u001b[0m     \u001b[38;5;28;01mif\u001b[39;00m \u001b[43mword\u001b[49m\u001b[38;5;241;43m.\u001b[39;49m\u001b[43mlower\u001b[49m() \u001b[38;5;129;01min\u001b[39;00m distincts:\n\u001b[1;32m     34\u001b[0m         \u001b[38;5;28;01mif\u001b[39;00m \u001b[38;5;124m\"\u001b[39m\u001b[38;5;124m;\u001b[39m\u001b[38;5;124m\"\u001b[39m \u001b[38;5;129;01min\u001b[39;00m w:\n\u001b[1;32m     35\u001b[0m             new_obj\u001b[38;5;241m+\u001b[39m\u001b[38;5;241m=\u001b[39m\u001b[38;5;124m\"\u001b[39m\u001b[38;5;124m; \u001b[39m\u001b[38;5;124m\"\u001b[39m\n",
      "\u001b[0;31mKeyboardInterrupt\u001b[0m: "
     ]
    }
   ],
   "source": [
    "import re\n",
    "obj=\"\"\n",
    "long_text_keys=[\"summaryDescription\",\"physicalDescription\",\"marksAndInscriptions\",\"objectHistory\",\"briefDescription\"]\n",
    "id_to_keywords_from_fulltexts={}\n",
    "\n",
    "# print(new_all_id_fulltexts[keys[0]])\n",
    "print(\"total\",len(keys))\n",
    "key=keys[0]\n",
    "count=0\n",
    "for key in keys:\n",
    "    count+=1\n",
    "    if count%100==0:\n",
    "        print(count)\n",
    "    distincts={}\n",
    "    \n",
    "    for elem in new_all_id_fulltexts[key]:\n",
    "        if elem in long_text_keys:\n",
    "            to_add=get_keywords(new_all_id_fulltexts[keys[0]][elem],10)\n",
    "        else:\n",
    "            to_add=new_all_id_fulltexts[keys[0]][elem]\n",
    "        to_add=to_add.replace(\"\\n\",\"\")\n",
    "        to_add=to_add.replace(\" ,\",\",\")\n",
    "        to_add=re.sub(\"</?\\w+>\",\"\",to_add)\n",
    "        to_add=re.sub(\"\\([^()]*\\)\",\"\",to_add)\n",
    "        if to_add and to_add!=\" \":\n",
    "            # print(to_add)\n",
    "            obj+=to_add+\"; \"\n",
    "        obj=obj.replace(\", ;\",\";\").replace(\" ;\",\";\").replace(\" ,\",\",\")\n",
    "\n",
    "    new_obj=\"\"\n",
    "    for w in obj.split(\" \"):\n",
    "        word=w.replace(\";\",\"\").replace(\",\",\"\").replace(\".\",\"\")\n",
    "        if word.lower() in distincts:\n",
    "            if \";\" in w:\n",
    "                new_obj+=\"; \"\n",
    "        else:\n",
    "            distincts[word.lower()]=1\n",
    "            new_obj+=w+\" \"\n",
    "    new_obj=new_obj.replace(\"; ;\",\"; \").replace(\" ;\",\";\")\n",
    "    id_to_keywords_from_fulltexts[key]=new_obj\n",
    "    # break\n",
    "\n",
    "\n",
    "# print(obj)\n",
    "# print(len(obj))\n",
    "# print(new_obj)\n",
    "# print(len(new_obj))\n",
    "\n",
    "# str_old_obj=\"\"\n",
    "# for k in old_object:\n",
    "#     str_old_obj+=old_object[k]\n",
    "# # print(len(old_object))\n",
    "# print(str_old_obj.replace(\"\\n\",\"\"))\n",
    "# # print(len(str_old_obj))"
   ]
  },
  {
   "cell_type": "markdown",
   "metadata": {},
   "source": [
    "### create new dataset csv"
   ]
  },
  {
   "cell_type": "code",
   "execution_count": 11,
   "metadata": {},
   "outputs": [
    {
     "name": "stdout",
     "output_type": "stream",
     "text": [
      "181064\n",
      "181064\n"
     ]
    }
   ],
   "source": [
    "import json\n",
    "id_to_keywords_from_fulltexts={}\n",
    "\n",
    "for nr in range(4,5):\n",
    "    with open(\"/home/username/open_clip/get_data/text_data/va/va_id_to_keywords_fulltext\"+str(nr)+\".json\") as f:\n",
    "        x=json.load(f)\n",
    "        print(len(x.keys()))\n",
    "        for k in x:\n",
    "            id_to_keywords_from_fulltexts[k]='\"'+x[k].replace('\"',\"\")+'\"'\n",
    "\n",
    "print(len(id_to_keywords_from_fulltexts.keys()))\n"
   ]
  },
  {
   "cell_type": "code",
   "execution_count": 12,
   "metadata": {},
   "outputs": [],
   "source": [
    "keys=list(id_to_keywords_from_fulltexts.keys())"
   ]
  },
  {
   "cell_type": "code",
   "execution_count": 20,
   "metadata": {},
   "outputs": [],
   "source": [
    "# import pandas as pd\n",
    "\n",
    "# train_brit_csv = pd.read_csv('/home/username/open_clip/finetuning/train6.csv')\n",
    "# val_brit_csv=pd.read_csv(\"/home/username/open_clip/finetuning/val6.csv\")"
   ]
  },
  {
   "cell_type": "code",
   "execution_count": 21,
   "metadata": {},
   "outputs": [],
   "source": [
    "# train_brit={}\n",
    "# train_brit[\"image_path\"]=train_brit_csv[\"image_path\"]\n",
    "# train_brit[\"caption\"]=train_brit_csv[\"caption\"]\n",
    "# train_brit[\"key\"]=train_brit_csv[\"image_code\"]\n",
    "\n",
    "# val_brit={}\n",
    "# val_brit[\"image_path\"]=val_brit_csv[\"image_path\"]\n",
    "# val_brit[\"caption\"]=val_brit_csv[\"caption\"]\n",
    "# val_brit[\"key\"]=val_brit_csv[\"image_code\"]"
   ]
  },
  {
   "cell_type": "code",
   "execution_count": 13,
   "metadata": {},
   "outputs": [],
   "source": [
    "import pandas as pd\n",
    "\n",
    "def create_data(keys,images_paths,captions):\n",
    "    data={}   \n",
    "    data[\"key\"]=[k for k in keys]\n",
    "    data['image_path']=[images_paths[i] for i in keys]\n",
    "    data[\"caption\"]=[captions[k] for k in keys]\n",
    "\n",
    "    df = pd.DataFrame(data)\n",
    "    return df\n",
    "    # print(df)"
   ]
  },
  {
   "cell_type": "code",
   "execution_count": 124,
   "metadata": {},
   "outputs": [],
   "source": [
    "# with open(\"/home/username/open_clip/get_data/text_data/va/va_id_to_image.json\") as f:\n",
    "#     va_images_paths=json.load(f)\n"
   ]
  },
  {
   "cell_type": "code",
   "execution_count": 14,
   "metadata": {},
   "outputs": [
    {
     "name": "stdout",
     "output_type": "stream",
     "text": [
      "181068\n"
     ]
    }
   ],
   "source": [
    "from os import walk\n",
    "images_paths=[]\n",
    "f=[]\n",
    "path=\"/scratch/username/data/va_images/\"\n",
    "for (dirpath, dirnames, filenames) in walk(path):\n",
    "    f.extend(filenames)\n",
    "    # print(dirpath+filenames[0])\n",
    "    images_paths.extend([dirpath+filename for filename in filenames])\n",
    "    break\n",
    "print(len(images_paths))\n",
    "\n",
    "# images_local_paths={}\n",
    "# for elem in images_paths:\n",
    "#     # print(elem.split(\"/\")[-1].split(\".\")[0])\n",
    "#     images_local_paths[elem.split(\"/\")[-1].split(\".\")[0]]=elem\n",
    "#     # break\n"
   ]
  },
  {
   "cell_type": "code",
   "execution_count": 15,
   "metadata": {},
   "outputs": [
    {
     "name": "stdout",
     "output_type": "stream",
     "text": [
      "180996\n"
     ]
    }
   ],
   "source": [
    "from PIL import Image \n",
    "new_images_paths=[]\n",
    "touched_keys=[]\n",
    "for i in range(len(images_paths)):\n",
    "    ki=images_paths[i].split(\"/\")[-1].replace(\".jpg\",\"\")\n",
    "    try:\n",
    "        Image.open(images_paths[i])\n",
    "    except: \n",
    "        continue\n",
    "\n",
    "    if ki in keys and ki not in touched_keys:\n",
    "        new_images_paths.append(images_paths[i])\n",
    "        touched_keys.append(ki)\n",
    "\n",
    "print(len(touched_keys))"
   ]
  },
  {
   "cell_type": "code",
   "execution_count": 16,
   "metadata": {},
   "outputs": [],
   "source": [
    "images_local_paths={}\n",
    "for elem in new_images_paths:\n",
    "    # print(elem.split(\"/\")[-1].split(\".\")[0])\n",
    "    images_local_paths[elem.split(\"/\")[-1].split(\".\")[0]]=elem\n",
    "    # break"
   ]
  },
  {
   "cell_type": "code",
   "execution_count": 17,
   "metadata": {},
   "outputs": [],
   "source": [
    "import random\n",
    "number=6000\n",
    "validation=random.sample(touched_keys,number)\n",
    "\n",
    "train=[]\n",
    "ids_train=[]\n",
    "ids_val=[]\n",
    "for i,k in enumerate(touched_keys):\n",
    "    if k not in validation:\n",
    "        train.append(k)\n"
   ]
  },
  {
   "cell_type": "code",
   "execution_count": 18,
   "metadata": {},
   "outputs": [],
   "source": [
    "\n",
    "train_va=create_data(train, images_local_paths,id_to_keywords_from_fulltexts)\n",
    "val_va=create_data(validation,images_local_paths,id_to_keywords_from_fulltexts)\n",
    "training_dataset=pd.DataFrame(train_va)\n",
    "validation_dataset=pd.DataFrame(val_va)"
   ]
  },
  {
   "cell_type": "code",
   "execution_count": 23,
   "metadata": {},
   "outputs": [],
   "source": [
    "#merge va and brit\n",
    "training_dataset={}\n",
    "validation_dataset={}\n",
    "\n",
    "training_dataset[\"key\"]=pd.concat([train_va['key'],train_brit[\"key\"]])\n",
    "training_dataset[\"image_path\"]=pd.concat([train_va['image_path'],train_brit[\"image_path\"]])\n",
    "training_dataset[\"caption\"]=pd.concat([train_va['caption'],train_brit[\"caption\"]])\n",
    "\n",
    "validation_dataset['key']=pd.concat([val_va['key'],(val_brit[\"key\"])])\n",
    "validation_dataset['image_path']=pd.concat([val_va['image_path'],(val_brit[\"image_path\"])])\n",
    "validation_dataset[\"caption\"]=pd.concat([val_va['caption'], val_brit[\"caption\"]])\n",
    "\n",
    "training_dataset=pd.DataFrame(training_dataset)\n",
    "validation_dataset=pd.DataFrame(validation_dataset)\n"
   ]
  },
  {
   "cell_type": "code",
   "execution_count": 24,
   "metadata": {},
   "outputs": [],
   "source": [
    "nr=10\n",
    "training_dataset.to_csv('/home/username/open_clip/finetuning/train'+str(nr)+'.csv', header=True, index=False)\n",
    "validation_dataset.to_csv('/home/username/open_clip/finetuning/val'+str(nr)+'.csv', header=True, index=False)"
   ]
  }
 ],
 "metadata": {
  "kernelspec": {
   "display_name": "Python 3 (ipykernel)",
   "language": "python",
   "name": "python3"
  },
  "language_info": {
   "codemirror_mode": {
    "name": "ipython",
    "version": 3
   },
   "file_extension": ".py",
   "mimetype": "text/x-python",
   "name": "python",
   "nbconvert_exporter": "python",
   "pygments_lexer": "ipython3",
   "version": "3.9.17"
  }
 },
 "nbformat": 4,
 "nbformat_minor": 2
}
